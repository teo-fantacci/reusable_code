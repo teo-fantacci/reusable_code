{
 "cells": [
  {
   "cell_type": "code",
   "execution_count": null,
   "metadata": {},
   "outputs": [],
   "source": [
    "def convert_temperature(temperature, unit):\n",
    "    if unit == \"F\":\n",
    "        # Convert Fahrenheit to Celsius\n",
    "        celsius = (temperature - 32) * (5 / 9)\n",
    "        if celsius < -273.15:\n",
    "            # Invalid temperature, below absolute zero\n",
    "            return \"Invalid temperature\"\n",
    "        else:\n",
    "            # Convert Celsius to Kelvin\n",
    "            kelvin = celsius + 273.15\n",
    "            if kelvin < 0:\n",
    "                # Invalid temperature, below absolute zero\n",
    "                return \"Invalid temperature\"\n",
    "            else:\n",
    "                fahrenheit = (celsius * (9 / 5)) + 32\n",
    "                if fahrenheit < -459.67:\n",
    "                    # Invalid temperature, below absolute zero\n",
    "                    return \"Invalid temperature\"\n",
    "                else:\n",
    "                    return celsius, kelvin\n",
    "    elif unit == \"C\":\n",
    "        # Convert Celsius to Fahrenheit\n",
    "        fahrenheit = (temperature * (9 / 5)) + 32\n",
    "        if fahrenheit < -459.67:\n",
    "            # Invalid temperature, below absolute zero\n",
    "            return \"Invalid temperature\"\n",
    "        else:\n",
    "            # Convert Celsius to Kelvin\n",
    "            kelvin = temperature + 273.15\n",
    "            if kelvin < 0:\n",
    "                # Invalid temperature, below absolute zero\n",
    "                return \"Invalid temperature\"\n",
    "            else:\n",
    "                return fahrenheit, kelvin\n",
    "    elif unit == \"K\":\n",
    "        # Convert Kelvin to Celsius\n",
    "        celsius = temperature - 273.15\n",
    "        if celsius < -273.15:\n",
    "            # Invalid temperature, below absolute zero\n",
    "            return \"Invalid temperature\"\n",
    "        else:\n",
    "            # Convert Celsius to Fahrenheit\n",
    "            fahrenheit = (celsius * (9 / 5)) + 32\n",
    "            if fahrenheit < -459.67:\n",
    "                # Invalid temperature, below absolute zero\n",
    "                return \"Invalid temperature\"\n",
    "            else:\n",
    "                return celsius, fahrenheit\n",
    "    else:\n",
    "        return \"Invalid unit\""
   ]
  },
  {
   "cell_type": "code",
   "execution_count": null,
   "metadata": {},
   "outputs": [],
   "source": [
    "def convert_temperature(temperature, unit):\n",
    "    if unit == \"F\":\n",
    "        if temperature < -459.67:\n",
    "            return \"Invalid temperature\"\n",
    "        else:\n",
    "            celsius = (temperature - 32) * (5 / 9)\n",
    "            # Convert Celsius to Kelvin\n",
    "            kelvin = celsius + 273.15"
   ]
  }
 ],
 "metadata": {
  "language_info": {
   "name": "python"
  }
 },
 "nbformat": 4,
 "nbformat_minor": 2
}
